{
  "nbformat": 4,
  "nbformat_minor": 0,
  "metadata": {
    "colab": {
      "provenance": []
    },
    "kernelspec": {
      "name": "python3",
      "display_name": "Python 3"
    },
    "language_info": {
      "name": "python"
    }
  },
  "cells": [
    {
      "cell_type": "code",
      "execution_count": null,
      "metadata": {
        "id": "b6ZcFyGp8HUD"
      },
      "outputs": [],
      "source": []
    },
    {
      "cell_type": "markdown",
      "source": [
        "**HTML and tags** Assignment\n",
        "\n",
        "\n",
        "1. Write a simple program in HTML  that displays the heading \"HTML defines the content and structure of your website” on the web browser?\n",
        "\n",
        " A.  simple html program :\n",
        "        \n"
      ],
      "metadata": {
        "id": "rqSq6xFw8H77"
      }
    },
    {
      "cell_type": "code",
      "source": [
        "<!DOCTYPE html>\n",
        "<html>\n",
        "<head>\n",
        "\t<title>HTML Heading</title>\n",
        "</head>\n",
        "<body>\n",
        "\t<h1>HTML defines the content and structure of your website on the web browser.</h1>\n",
        "</body>\n",
        "</html>"
      ],
      "metadata": {
        "id": "wKdKsR7y9mdC"
      },
      "execution_count": null,
      "outputs": []
    },
    {
      "cell_type": "markdown",
      "source": [
        "2. Explain the purpose of comments in HTML and provide an example of how to use comments in an HTML document?\n",
        "\n",
        "  A. Comments in HTML are used to add notes or explanations to the code that are not visible to the user when the page is displayed in a web browser. Comments serve several purposes:\n",
        "\n",
        "* Documentation: Comments help explain the purpose of the code, making it easier for others (or yourself) to understand the code later.\n",
        "* Debugging: Comments can be used to temporarily remove sections of code for debugging purposes.\n",
        "* Organization: Comments can help organize the code, making it easier to navigate and maintain.\n",
        "\n",
        "example of comments in an HTML document\n"
      ],
      "metadata": {
        "id": "xtarRRiV9z3Y"
      }
    },
    {
      "cell_type": "code",
      "source": [
        "<!-- This is a comment in HTML -->\n",
        "<!DOCTYPE html>\n",
        "<html>\n",
        "<head>\n",
        "\t<title>My Web Page</title>\n",
        "</head>\n",
        "<body>\n",
        "\t<!-- This section displays a heading -->\n",
        "\t<h1>Welcome to My Web Page</h1>\n",
        "\t<!-- This section displays a paragraph -->\n",
        "\t<p>This is a sample paragraph.</p>\n",
        "</body>\n",
        "</html>\n"
      ],
      "metadata": {
        "id": "4wHZ5OW8-aoG"
      },
      "execution_count": null,
      "outputs": []
    },
    {
      "cell_type": "markdown",
      "source": [
        "\n",
        "In this example, the comments are enclosed within <!-- and --> tags, which indicate that the text within is a comment and should not be displayed by the web browser.\n",
        "\n"
      ],
      "metadata": {
        "id": "S-cDcnsA9tbw"
      }
    },
    {
      "cell_type": "markdown",
      "source": [
        "3. Write an HTML program that includes a heading, a paragraph of text, a horizontal line, and a line break.Arrange these elements to create a simple web page layout>\n",
        "\n",
        "  A.html program"
      ],
      "metadata": {
        "id": "5JbVIqhU-xaJ"
      }
    },
    {
      "cell_type": "code",
      "source": [
        "<!DOCTYPE html>\n",
        "<html>\n",
        "<head>\n",
        "\t<title>Simple Web Layout</title>\n",
        "</head>\n",
        "<body>\n",
        "\t<!-- Heading -->\n",
        "\t<h1 align=\"center\">Welcome to My Web Page</h1>\n",
        "\n",
        "\t<!-- Horizontal Line -->\n",
        "\t<hr width=\"50%\" align=\"center\">\n",
        "\n",
        "\t<!-- Paragraph -->\n",
        "\t<p align=\"justify\">Lorem ipsum dolor sit amet, consectetur adipiscing elit. Sed sit amet nulla auctor, vestibulum magna sed, convallis ex. Cum sociis natoque penatibus et magnis dis parturient montes, nascetur ridiculus mus.</p>\n",
        "\n",
        "\t<!-- Line Break -->\n",
        "\t<br>\n",
        "\n",
        "\t<!-- Another Paragraph -->\n",
        "\t<p align=\"justify\">Cras mattis consectetur purus sit amet fermentum. Cum sociis natoque penatibus et magnis dis parturient montes, nascetur ridiculus mus. Maecenas faucibus mollis interdum. Aenean lacinia bibendum nulla sed consectetur.</p>\n",
        "</body>\n",
        "</html>\n"
      ],
      "metadata": {
        "id": "HfpfDQ9TA8q-"
      },
      "execution_count": null,
      "outputs": []
    },
    {
      "cell_type": "markdown",
      "source": [
        "This program creates a simple web layout with:\n",
        "\n",
        "*  A centered heading\n",
        "\n",
        "* A horizontal line below the heading\n",
        "\n",
        "* A paragraph of text\n",
        "\n",
        "* A line break\n",
        "\n",
        "* Another paragraph of text\n",
        "\n"
      ],
      "metadata": {
        "id": "Kvp80GLDBDdp"
      }
    },
    {
      "cell_type": "markdown",
      "source": [
        "\n",
        "4. Write a short note on Tag and element with an example?\n",
        "\n",
        "A.**Tag**: A tag is a markup instruction that tells the web browser how to\n",
        "          display the content. It's surrounded by angle brackets (< >).\n",
        "\n",
        "**Element**: An element is the combination of a start tag, content, and an end\n",
        "             tag. It represents a single unit of content on a web page.\n",
        "\n",
        "Example:\n"
      ],
      "metadata": {
        "id": "-Igor4BBBKq5"
      }
    },
    {
      "cell_type": "code",
      "source": [
        "<p>This is a paragraph.</p>\n",
        "\n",
        "In this example:\n",
        "\n",
        "- <p> is the start tag\n",
        "- This is a paragraph. is the content\n",
        "- </p> is the end tag\n",
        "- The entire thing (<p>This is a paragraph.</p>) is the element."
      ],
      "metadata": {
        "id": "H9KKFC2GBivD"
      },
      "execution_count": null,
      "outputs": []
    },
    {
      "cell_type": "markdown",
      "source": [
        "5.What is the DOCTYPE Declaration in HTML?\n",
        "\n",
        "\n",
        " A.The **DOCTYPE** declaration, also known as the document type declaration, is the first line of code in an HTML document. It tells the web browser which version of HTML is being used to write the document.\n",
        "\n",
        "The general syntax is:\n",
        "\n",
        "<!DOCTYPE html>\n",
        "\n",
        "This declaration is case-insensitive and should be the first line of code in the HTML document. It does not have a closing tag.\n",
        "\n",
        "The DOCTYPE declaration serves several purposes:\n",
        "\n",
        "1. It informs the browser about the document type and version.\n",
        "2. It helps the browser to render the page correctly.\n",
        "3. It enables the use of HTML validation tools.\n",
        "\n",
        "In HTML5, the DOCTYPE declaration is simplified to <!DOCTYPE html>."
      ],
      "metadata": {
        "id": "khdZhKdvB8rI"
      }
    }
  ]
}